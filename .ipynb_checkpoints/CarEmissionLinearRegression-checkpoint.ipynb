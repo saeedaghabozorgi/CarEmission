{
 "cells": [
  {
   "cell_type": "markdown",
   "metadata": {},
   "source": [
    "# Fuel consumption linear regression\n",
    "Using scipy"
   ]
  },
  {
   "cell_type": "code",
   "execution_count": 48,
   "metadata": {
    "collapsed": true
   },
   "outputs": [],
   "source": [
    "import matplotlib.pyplot as plt\n",
    "import pandas as pd\n",
    "import statsmodels.api as sm\n",
    "import pylab as pl\n",
    "import numpy as np\n",
    "%matplotlib inline"
   ]
  },
  {
   "cell_type": "code",
   "execution_count": 49,
   "metadata": {
    "collapsed": false
   },
   "outputs": [
    {
     "name": "stdout",
     "output_type": "stream",
     "text": [
      "--2015-10-05 15:30:22--  https://ibm.box.com/shared/static/ez95yurarnp0q31l9jl1ma51mh6qtxj2.csv\n",
      "Resolving ibm.box.com (ibm.box.com)... 74.112.185.182, 74.112.184.85\n",
      "Connecting to ibm.box.com (ibm.box.com)|74.112.185.182|:443... connected.\n",
      "HTTP request sent, awaiting response... 302 Found\n",
      "Location: https://ibm.app.box.com/shared/static/ez95yurarnp0q31l9jl1ma51mh6qtxj2.csv [following]\n",
      "--2015-10-05 15:30:27--  https://ibm.app.box.com/shared/static/ez95yurarnp0q31l9jl1ma51mh6qtxj2.csv\n",
      "Resolving ibm.app.box.com (ibm.app.box.com)... 74.112.185.87, 74.112.184.87\n",
      "Connecting to ibm.app.box.com (ibm.app.box.com)|74.112.185.87|:443... connected.\n",
      "HTTP request sent, awaiting response... 302 Found\n",
      "Location: https://dl.boxcloud.com/d/1/oAczOBTGKUplUU8XexS3b2v9lYexX4BCw0DqzwTjBHTXW8bCjbgUZmYplFwfHxauuN1DRsBttlX8MwWFNLiBjNblytyqsCFCAGFHYvtT6gaEvCme91KBDL4O80UYGwjjFWC-YO4dTAPn8_NqYO6XfY79AEQaN3qydliukJYx88EEflKlH_fav1AxNWfS2-oggNprbmd8de2CNx51RSriDbnF5L5mvCNgBu0B_2-c1kpYBiUoijCXNiBSLpwhAUOTALYxnsx1eu7T1hlf68mxJtq11g-PTOVJtzbWHTcqv2CY8wOTO_W0JcxdkL7WogTXDyvQvV4oDKChheUVKU5pE14hVvCG0vCrWaPsd2GdIVe85-AUdlV6oFf9Kq96YmaifdH4_pyhjEUl1MitbzEUMXhXhjQrb4pfWmFRuFJToSEiSwfLTdCsc_k7QdvzD6JJu5cjUpqygrhjaRu4iLvytmyi2gAmfDHttoGLyGQr_pFD6ns0KKf9-4c94uLxa1QISotCo2qHNDCE9xPsi-DmXmGUuUreJa50dk51vKL2xOHsylwt--wpmdfR1yXGi4159NRXunFObsJwRWceNNwoGnklCtilWdT9ChaYIRgGM5hL7O7XQUvY-UGFhZdw-h2oQnGK3kwUyibMiJfTYDtjWl3JOE6ntizvb7aMhkqGW4CbOmR0wusWZS3YEzdZeQBTUwcYdb53Stmi7cgaSe0lDghCvYQ2ysi6wd9k7lyl_aPA8AeSx6o_iEdZQMAsGS828P2ctcdOUIr-2iqQuabyAppUixMU-vy8hKyRZqOgN_lAzIzyLQK-gekJejDKlEFMGgUpPYeiDww-5HVN8jEFha-C57GrX1zHNs-sFAA71vV9hHbZFlbzlcxkxPYDU6EIu49MvqcJIBGka1LRYgqTXoKzGxesDP6b7YNUSshpg6FmhLY1y5p4ZWZf9o1zGv6TDHTNeIlDJMHhYdQHK21AWBzHPZqpkTc20JznvsEdKTK2I7YtECI8jtkw3YbStn2YFdck4sg0gRFJ_98Zi-eMvcW65GmQDcPnDOVPy5SJjZVtL2nLOtAdt8NoY38EkZeQjIvDRdZowAP0EjOFYlP8ueT__euC6OzxMaa2O1DmFaCuYCvch_Wn9FUMCas73OevB0I7Aq8GdeYkJJS7V53Rah9CmIxj6R0W_8qakibDW4uYW2gKW4lKLTqPZlkdFbkTwghINkocLuiY3mTkTy-6lGUVPY7ZCpXS83sNAb49AauZ4bo65lXeGCdhOp7BCFGTINJcwrLCaCRduFHhIYg./download [following]\n",
      "--2015-10-05 15:30:28--  https://dl.boxcloud.com/d/1/oAczOBTGKUplUU8XexS3b2v9lYexX4BCw0DqzwTjBHTXW8bCjbgUZmYplFwfHxauuN1DRsBttlX8MwWFNLiBjNblytyqsCFCAGFHYvtT6gaEvCme91KBDL4O80UYGwjjFWC-YO4dTAPn8_NqYO6XfY79AEQaN3qydliukJYx88EEflKlH_fav1AxNWfS2-oggNprbmd8de2CNx51RSriDbnF5L5mvCNgBu0B_2-c1kpYBiUoijCXNiBSLpwhAUOTALYxnsx1eu7T1hlf68mxJtq11g-PTOVJtzbWHTcqv2CY8wOTO_W0JcxdkL7WogTXDyvQvV4oDKChheUVKU5pE14hVvCG0vCrWaPsd2GdIVe85-AUdlV6oFf9Kq96YmaifdH4_pyhjEUl1MitbzEUMXhXhjQrb4pfWmFRuFJToSEiSwfLTdCsc_k7QdvzD6JJu5cjUpqygrhjaRu4iLvytmyi2gAmfDHttoGLyGQr_pFD6ns0KKf9-4c94uLxa1QISotCo2qHNDCE9xPsi-DmXmGUuUreJa50dk51vKL2xOHsylwt--wpmdfR1yXGi4159NRXunFObsJwRWceNNwoGnklCtilWdT9ChaYIRgGM5hL7O7XQUvY-UGFhZdw-h2oQnGK3kwUyibMiJfTYDtjWl3JOE6ntizvb7aMhkqGW4CbOmR0wusWZS3YEzdZeQBTUwcYdb53Stmi7cgaSe0lDghCvYQ2ysi6wd9k7lyl_aPA8AeSx6o_iEdZQMAsGS828P2ctcdOUIr-2iqQuabyAppUixMU-vy8hKyRZqOgN_lAzIzyLQK-gekJejDKlEFMGgUpPYeiDww-5HVN8jEFha-C57GrX1zHNs-sFAA71vV9hHbZFlbzlcxkxPYDU6EIu49MvqcJIBGka1LRYgqTXoKzGxesDP6b7YNUSshpg6FmhLY1y5p4ZWZf9o1zGv6TDHTNeIlDJMHhYdQHK21AWBzHPZqpkTc20JznvsEdKTK2I7YtECI8jtkw3YbStn2YFdck4sg0gRFJ_98Zi-eMvcW65GmQDcPnDOVPy5SJjZVtL2nLOtAdt8NoY38EkZeQjIvDRdZowAP0EjOFYlP8ueT__euC6OzxMaa2O1DmFaCuYCvch_Wn9FUMCas73OevB0I7Aq8GdeYkJJS7V53Rah9CmIxj6R0W_8qakibDW4uYW2gKW4lKLTqPZlkdFbkTwghINkocLuiY3mTkTy-6lGUVPY7ZCpXS83sNAb49AauZ4bo65lXeGCdhOp7BCFGTINJcwrLCaCRduFHhIYg./download\n",
      "Resolving dl.boxcloud.com (dl.boxcloud.com)... 74.112.184.96, 74.112.185.96\n",
      "Connecting to dl.boxcloud.com (dl.boxcloud.com)|74.112.184.96|:443... connected.\n",
      "HTTP request sent, awaiting response... 200 OK\n",
      "Length: 72629 (71K) [text/csv]\n",
      "Saving to: ‘/resources/FuelConsumption.csv’\n",
      "\n",
      "100%[======================================>] 72,629       349KB/s   in 0.2s   \n",
      "\n",
      "2015-10-05 15:30:28 (349 KB/s) - ‘/resources/FuelConsumption.csv’ saved [72629/72629]\n",
      "\n"
     ]
    }
   ],
   "source": [
    "!wget -O /resources/FuelConsumption.csv https://ibm.box.com/shared/static/ez95yurarnp0q31l9jl1ma51mh6qtxj2.csv"
   ]
  },
  {
   "cell_type": "code",
   "execution_count": 50,
   "metadata": {
    "collapsed": false
   },
   "outputs": [
    {
     "data": {
      "text/html": [
       "<div style=\"max-height:1000px;max-width:1500px;overflow:auto;\">\n",
       "<table border=\"1\" class=\"dataframe\">\n",
       "  <thead>\n",
       "    <tr style=\"text-align: right;\">\n",
       "      <th></th>\n",
       "      <th>MODELYEAR</th>\n",
       "      <th>MAKE</th>\n",
       "      <th>MODEL</th>\n",
       "      <th>VEHICLECLASS</th>\n",
       "      <th>ENGINESIZE</th>\n",
       "      <th>CYLINDERS</th>\n",
       "      <th>TRANSMISSION</th>\n",
       "      <th>FUELTYPE</th>\n",
       "      <th>FUELCONSUMPTION_CITY</th>\n",
       "      <th>FUELCONSUMPTION_HWY</th>\n",
       "      <th>FUELCONSUMPTION_COMB</th>\n",
       "      <th>FUELCONSUMPTION_COMB_MPG</th>\n",
       "      <th>CO2EMISSIONS</th>\n",
       "    </tr>\n",
       "  </thead>\n",
       "  <tbody>\n",
       "    <tr>\n",
       "      <th>0</th>\n",
       "      <td> 2014</td>\n",
       "      <td> ACURA</td>\n",
       "      <td>        ILX</td>\n",
       "      <td>     COMPACT</td>\n",
       "      <td> 2.0</td>\n",
       "      <td> 4</td>\n",
       "      <td> AS5</td>\n",
       "      <td> Z</td>\n",
       "      <td>  9.9</td>\n",
       "      <td> 6.7</td>\n",
       "      <td>  8.5</td>\n",
       "      <td> 33</td>\n",
       "      <td> 196</td>\n",
       "    </tr>\n",
       "    <tr>\n",
       "      <th>1</th>\n",
       "      <td> 2014</td>\n",
       "      <td> ACURA</td>\n",
       "      <td>        ILX</td>\n",
       "      <td>     COMPACT</td>\n",
       "      <td> 2.4</td>\n",
       "      <td> 4</td>\n",
       "      <td>  M6</td>\n",
       "      <td> Z</td>\n",
       "      <td> 11.2</td>\n",
       "      <td> 7.7</td>\n",
       "      <td>  9.6</td>\n",
       "      <td> 29</td>\n",
       "      <td> 221</td>\n",
       "    </tr>\n",
       "    <tr>\n",
       "      <th>2</th>\n",
       "      <td> 2014</td>\n",
       "      <td> ACURA</td>\n",
       "      <td> ILX HYBRID</td>\n",
       "      <td>     COMPACT</td>\n",
       "      <td> 1.5</td>\n",
       "      <td> 4</td>\n",
       "      <td> AV7</td>\n",
       "      <td> Z</td>\n",
       "      <td>  6.0</td>\n",
       "      <td> 5.8</td>\n",
       "      <td>  5.9</td>\n",
       "      <td> 48</td>\n",
       "      <td> 136</td>\n",
       "    </tr>\n",
       "    <tr>\n",
       "      <th>3</th>\n",
       "      <td> 2014</td>\n",
       "      <td> ACURA</td>\n",
       "      <td>    MDX 4WD</td>\n",
       "      <td> SUV - SMALL</td>\n",
       "      <td> 3.5</td>\n",
       "      <td> 6</td>\n",
       "      <td> AS6</td>\n",
       "      <td> Z</td>\n",
       "      <td> 12.7</td>\n",
       "      <td> 9.1</td>\n",
       "      <td> 11.1</td>\n",
       "      <td> 25</td>\n",
       "      <td> 255</td>\n",
       "    </tr>\n",
       "    <tr>\n",
       "      <th>4</th>\n",
       "      <td> 2014</td>\n",
       "      <td> ACURA</td>\n",
       "      <td>    RDX AWD</td>\n",
       "      <td> SUV - SMALL</td>\n",
       "      <td> 3.5</td>\n",
       "      <td> 6</td>\n",
       "      <td> AS6</td>\n",
       "      <td> Z</td>\n",
       "      <td> 12.1</td>\n",
       "      <td> 8.7</td>\n",
       "      <td> 10.6</td>\n",
       "      <td> 27</td>\n",
       "      <td> 244</td>\n",
       "    </tr>\n",
       "  </tbody>\n",
       "</table>\n",
       "<p>5 rows × 13 columns</p>\n",
       "</div>"
      ],
      "text/plain": [
       "   MODELYEAR   MAKE       MODEL VEHICLECLASS  ENGINESIZE  CYLINDERS  \\\n",
       "0       2014  ACURA         ILX      COMPACT         2.0          4   \n",
       "1       2014  ACURA         ILX      COMPACT         2.4          4   \n",
       "2       2014  ACURA  ILX HYBRID      COMPACT         1.5          4   \n",
       "3       2014  ACURA     MDX 4WD  SUV - SMALL         3.5          6   \n",
       "4       2014  ACURA     RDX AWD  SUV - SMALL         3.5          6   \n",
       "\n",
       "  TRANSMISSION FUELTYPE  FUELCONSUMPTION_CITY  FUELCONSUMPTION_HWY  \\\n",
       "0          AS5        Z                   9.9                  6.7   \n",
       "1           M6        Z                  11.2                  7.7   \n",
       "2          AV7        Z                   6.0                  5.8   \n",
       "3          AS6        Z                  12.7                  9.1   \n",
       "4          AS6        Z                  12.1                  8.7   \n",
       "\n",
       "   FUELCONSUMPTION_COMB  FUELCONSUMPTION_COMB_MPG  CO2EMISSIONS  \n",
       "0                   8.5                        33           196  \n",
       "1                   9.6                        29           221  \n",
       "2                   5.9                        48           136  \n",
       "3                  11.1                        25           255  \n",
       "4                  10.6                        27           244  \n",
       "\n",
       "[5 rows x 13 columns]"
      ]
     },
     "execution_count": 50,
     "metadata": {},
     "output_type": "execute_result"
    }
   ],
   "source": [
    "df = pd.read_csv(\"/resources/FuelConsumption.csv\")\n",
    "\n",
    "# take a look at the dataset\n",
    "df.head()"
   ]
  },
  {
   "cell_type": "code",
   "execution_count": 51,
   "metadata": {
    "collapsed": false
   },
   "outputs": [
    {
     "data": {
      "text/html": [
       "<div style=\"max-height:1000px;max-width:1500px;overflow:auto;\">\n",
       "<table border=\"1\" class=\"dataframe\">\n",
       "  <thead>\n",
       "    <tr style=\"text-align: right;\">\n",
       "      <th></th>\n",
       "      <th>MODELYEAR</th>\n",
       "      <th>ENGINESIZE</th>\n",
       "      <th>CYLINDERS</th>\n",
       "      <th>FUELCONSUMPTION_CITY</th>\n",
       "      <th>FUELCONSUMPTION_HWY</th>\n",
       "      <th>FUELCONSUMPTION_COMB</th>\n",
       "      <th>FUELCONSUMPTION_COMB_MPG</th>\n",
       "      <th>CO2EMISSIONS</th>\n",
       "    </tr>\n",
       "  </thead>\n",
       "  <tbody>\n",
       "    <tr>\n",
       "      <th>count</th>\n",
       "      <td> 1067</td>\n",
       "      <td> 1067.000000</td>\n",
       "      <td> 1067.000000</td>\n",
       "      <td> 1067.000000</td>\n",
       "      <td> 1067.000000</td>\n",
       "      <td> 1067.000000</td>\n",
       "      <td> 1067.000000</td>\n",
       "      <td> 1067.000000</td>\n",
       "    </tr>\n",
       "    <tr>\n",
       "      <th>mean</th>\n",
       "      <td> 2014</td>\n",
       "      <td>    3.346298</td>\n",
       "      <td>    5.794752</td>\n",
       "      <td>   13.296532</td>\n",
       "      <td>    9.474602</td>\n",
       "      <td>   11.580881</td>\n",
       "      <td>   26.441425</td>\n",
       "      <td>  256.228679</td>\n",
       "    </tr>\n",
       "    <tr>\n",
       "      <th>std</th>\n",
       "      <td>    0</td>\n",
       "      <td>    1.415895</td>\n",
       "      <td>    1.797447</td>\n",
       "      <td>    4.101253</td>\n",
       "      <td>    2.794510</td>\n",
       "      <td>    3.485595</td>\n",
       "      <td>    7.468702</td>\n",
       "      <td>   63.372304</td>\n",
       "    </tr>\n",
       "    <tr>\n",
       "      <th>min</th>\n",
       "      <td> 2014</td>\n",
       "      <td>    1.000000</td>\n",
       "      <td>    3.000000</td>\n",
       "      <td>    4.600000</td>\n",
       "      <td>    4.900000</td>\n",
       "      <td>    4.700000</td>\n",
       "      <td>   11.000000</td>\n",
       "      <td>  108.000000</td>\n",
       "    </tr>\n",
       "    <tr>\n",
       "      <th>25%</th>\n",
       "      <td> 2014</td>\n",
       "      <td>    2.000000</td>\n",
       "      <td>    4.000000</td>\n",
       "      <td>   10.250000</td>\n",
       "      <td>    7.500000</td>\n",
       "      <td>    9.000000</td>\n",
       "      <td>   21.000000</td>\n",
       "      <td>  207.000000</td>\n",
       "    </tr>\n",
       "    <tr>\n",
       "      <th>50%</th>\n",
       "      <td> 2014</td>\n",
       "      <td>    3.400000</td>\n",
       "      <td>    6.000000</td>\n",
       "      <td>   12.600000</td>\n",
       "      <td>    8.800000</td>\n",
       "      <td>   10.900000</td>\n",
       "      <td>   26.000000</td>\n",
       "      <td>  251.000000</td>\n",
       "    </tr>\n",
       "    <tr>\n",
       "      <th>75%</th>\n",
       "      <td> 2014</td>\n",
       "      <td>    4.300000</td>\n",
       "      <td>    8.000000</td>\n",
       "      <td>   15.550000</td>\n",
       "      <td>   10.850000</td>\n",
       "      <td>   13.350000</td>\n",
       "      <td>   31.000000</td>\n",
       "      <td>  294.000000</td>\n",
       "    </tr>\n",
       "    <tr>\n",
       "      <th>max</th>\n",
       "      <td> 2014</td>\n",
       "      <td>    8.400000</td>\n",
       "      <td>   12.000000</td>\n",
       "      <td>   30.200000</td>\n",
       "      <td>   20.500000</td>\n",
       "      <td>   25.800000</td>\n",
       "      <td>   60.000000</td>\n",
       "      <td>  488.000000</td>\n",
       "    </tr>\n",
       "  </tbody>\n",
       "</table>\n",
       "<p>8 rows × 8 columns</p>\n",
       "</div>"
      ],
      "text/plain": [
       "       MODELYEAR   ENGINESIZE    CYLINDERS  FUELCONSUMPTION_CITY  \\\n",
       "count       1067  1067.000000  1067.000000           1067.000000   \n",
       "mean        2014     3.346298     5.794752             13.296532   \n",
       "std            0     1.415895     1.797447              4.101253   \n",
       "min         2014     1.000000     3.000000              4.600000   \n",
       "25%         2014     2.000000     4.000000             10.250000   \n",
       "50%         2014     3.400000     6.000000             12.600000   \n",
       "75%         2014     4.300000     8.000000             15.550000   \n",
       "max         2014     8.400000    12.000000             30.200000   \n",
       "\n",
       "       FUELCONSUMPTION_HWY  FUELCONSUMPTION_COMB  FUELCONSUMPTION_COMB_MPG  \\\n",
       "count          1067.000000           1067.000000               1067.000000   \n",
       "mean              9.474602             11.580881                 26.441425   \n",
       "std               2.794510              3.485595                  7.468702   \n",
       "min               4.900000              4.700000                 11.000000   \n",
       "25%               7.500000              9.000000                 21.000000   \n",
       "50%               8.800000             10.900000                 26.000000   \n",
       "75%              10.850000             13.350000                 31.000000   \n",
       "max              20.500000             25.800000                 60.000000   \n",
       "\n",
       "       CO2EMISSIONS  \n",
       "count   1067.000000  \n",
       "mean     256.228679  \n",
       "std       63.372304  \n",
       "min      108.000000  \n",
       "25%      207.000000  \n",
       "50%      251.000000  \n",
       "75%      294.000000  \n",
       "max      488.000000  \n",
       "\n",
       "[8 rows x 8 columns]"
      ]
     },
     "execution_count": 51,
     "metadata": {},
     "output_type": "execute_result"
    }
   ],
   "source": [
    "# summarize the data\n",
    "df.describe()"
   ]
  },
  {
   "cell_type": "code",
   "execution_count": 52,
   "metadata": {
    "collapsed": false
   },
   "outputs": [
    {
     "data": {
      "image/png": "[encoded data removed]",
      "text/plain": [
       "<matplotlib.figure.Figure at 0x7f72d6cc78d0>"
      ]
     },
     "metadata": {},
     "output_type": "display_data"
    }
   ],
   "source": [
    "viz=df[['CYLINDERS','ENGINESIZE','CO2EMISSIONS','FUELCONSUMPTION_CITY']]\n",
    "viz.hist()\n",
    "plt.show()"
   ]
  },
  {
   "cell_type": "code",
   "execution_count": 53,
   "metadata": {
    "collapsed": false
   },
   "outputs": [
    {
     "data": {
      "image/png": "[encoded data removed]",
      "text/plain": [
       "<matplotlib.figure.Figure at 0x7f72d68d7590>"
      ]
     },
     "metadata": {},
     "output_type": "display_data"
    }
   ],
   "source": [
    "plt.scatter(df.ENGINESIZE, df.CO2EMISSIONS)\n",
    "plt.xlabel(\"Engine size\")\n",
    "plt.ylabel(\"Emission Volume\")\n",
    "plt.show()"
   ]
  },
  {
   "cell_type": "markdown",
   "metadata": {},
   "source": [
    "polyfit --> Least squares polynomial fit  \n",
    "Degree of the fitting polynomial=1"
   ]
  },
  {
   "cell_type": "code",
   "execution_count": 54,
   "metadata": {
    "collapsed": false
   },
   "outputs": [
    {
     "name": "stdout",
     "output_type": "stream",
     "text": [
      "39.1251997867 125.304099495 0.874154368396 0.0 0.666063115247\n"
     ]
    }
   ],
   "source": [
    "from scipy import stats\n",
    "slope, intercept, r_value, p_value, std_err = stats.linregress(df.ENGINESIZE,df.CO2EMISSIONS)\n",
    "print slope, intercept, r_value, p_value, std_err "
   ]
  },
  {
   "cell_type": "code",
   "execution_count": 55,
   "metadata": {
    "collapsed": false
   },
   "outputs": [
    {
     "name": "stdout",
     "output_type": "stream",
     "text": [
      "slope: 39.1251997867\n",
      "intercept: 125.304099495\n",
      "residuals (sum of the squares of the fit errors): [ 1009717.09425104]\n",
      "singular values: [ 1.3860078   0.28103804]\n",
      "conditioning threshold: 2.36921593455e-13\n",
      " \n",
      "39.13 x + 125.3\n"
     ]
    },
    {
     "data": {
      "image/png": "[encoded data removed]",
      "text/plain": [
       "<matplotlib.figure.Figure at 0x7f72d6fffc50>"
      ]
     },
     "metadata": {},
     "output_type": "display_data"
    }
   ],
   "source": [
    "fit = np.polyfit(df.ENGINESIZE, df.CO2EMISSIONS, deg=1,full=True)\n",
    "print 'slope:',fit[0][0]\n",
    "print 'intercept:',fit[0][1]\n",
    "print 'residuals (sum of the squares of the fit errors):',fit[1] \n",
    "print 'singular values:', fit [3]\n",
    "print 'conditioning threshold:',fit[4]\n",
    "\n",
    "fit_fn = np.poly1d(fit[0]) # param: The polynomial’s coefficients\n",
    "print fit_fn \n",
    "plt.plot(df.ENGINESIZE, df.CO2EMISSIONS, 'bo', df.ENGINESIZE, fit_fn(df.ENGINESIZE), '--k')\n",
    "plt.xlabel(\"Engine size\")\n",
    "plt.ylabel(\"Emission Volume\")\n",
    "plt.show()"
   ]
  },
  {
   "cell_type": "code",
   "execution_count": null,
   "metadata": {
    "collapsed": true
   },
   "outputs": [],
   "source": []
  }
 ],
 "metadata": {
  "kernelspec": {
   "display_name": "Python 2",
   "language": "python",
   "name": "python2"
  },
  "language_info": {
   "codemirror_mode": {
    "name": "ipython",
    "version": 2
   },
   "file_extension": ".py",
   "mimetype": "text/x-python",
   "name": "python",
   "nbconvert_exporter": "python",
   "pygments_lexer": "ipython2",
   "version": "2.7.10"
  }
 },
 "nbformat": 4,
 "nbformat_minor": 0
}
