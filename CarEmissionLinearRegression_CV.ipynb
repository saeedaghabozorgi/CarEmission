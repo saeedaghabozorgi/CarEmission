{
 "cells": [
  {
   "cell_type": "markdown",
   "metadata": {},
   "source": [
    "# Fuel consumption linear regression\n",
    "Using scipy\n",
    "adding test/train\n",
    "using Cross Fold validation\n"
   ]
  },
  {
   "cell_type": "code",
   "execution_count": 62,
   "metadata": {
    "collapsed": false
   },
   "outputs": [],
   "source": [
    "import matplotlib.pyplot as plt\n",
    "import pandas as pd\n",
    "import statsmodels.api as sm\n",
    "import pylab as pl\n",
    "import numpy as np\n",
    "%matplotlib inline"
   ]
  },
  {
   "cell_type": "code",
   "execution_count": 63,
   "metadata": {
    "collapsed": false
   },
   "outputs": [
    {
     "name": "stdout",
     "output_type": "stream",
     "text": [
      "--2015-10-05 18:10:45--  https://ibm.box.com/shared/static/ez95yurarnp0q31l9jl1ma51mh6qtxj2.csv\n",
      "Resolving ibm.box.com... 74.112.185.182, 74.112.184.85\n",
      "Connecting to ibm.box.com|74.112.185.182|:443... connected.\n",
      "HTTP request sent, awaiting response... 302 Found\n",
      "Location: https://ibm.app.box.com/shared/static/ez95yurarnp0q31l9jl1ma51mh6qtxj2.csv [following]\n",
      "--2015-10-05 18:10:45--  https://ibm.app.box.com/shared/static/ez95yurarnp0q31l9jl1ma51mh6qtxj2.csv\n",
      "Resolving ibm.app.box.com... 74.112.185.87, 74.112.184.87\n",
      "Connecting to ibm.app.box.com|74.112.185.87|:443... connected.\n",
      "HTTP request sent, awaiting response... 302 Found\n",
      "Location: https://dl.boxcloud.com/d/1/sRUDTUN2j2xKlBIlv08Zje2PwfKyqsmzmXFCdVqtjy8c36Jcb-POfCNnNtUdn2L7vtZYKovTC8dAiKWMTnr2PmjBHneRIVISxUcu3ltt9xVrVy8w2YqTAwZ92RINVWmaRi8oFxuh2RuVeYHT_ifPia17jdeId-jd-Wvi3rdQiwIz1bVH2rhH2vA0T4v2rVr8nXGWISYyiofKwQefbla-m71bn6uY7wxfe_xRaRLzHobUJBxqmYBG7c1YREktgoELsZFjXvfKQSMuTIeJgeKvPX2FcaGl7B3cM0j-ATPqOCGuXx3hbvB3LnLV6oHJooyRzFLT1aQFEqOVE6_H5BjGJ_ovr3xvHSzajmLNpsM0ym6evLkIdnqbS9hEA6d7mautLG8Am86BZrHwbyY-NuqqFSkSo7PGsUY19DTJha_aO8RlxEbucKSY3DIfvGo9QrkIfVvPlPPk6Gd8gIAJMLCXGg3cSC_uUu5q1IjacX5E8m9a0zmyWKZSmlJjKXwdrQW3qGN9cbsXVCfAmiwiu_cUqozx9daJcwU2vqM93BN30NAoIEboR13_U8gMZukWqpcO_F_EzKZRRyWU5vWIHW-lKdv9ewxI0S8vCzwr4_og5SmFoI-Hk8yFndi-iMQqwigzedCZRmia1nY26rKNir-pWMFauQdfyK1gyp2z2HSMz-BH-5f0Z4irJFxg8aiPl7YGbye8dUTwlzM876RWuQYwQMkz5qAnN5NdpFB31TOF0Fe8NFuiw0LWotCjr7-4VK0QgdrzZ3V2HxQFqrNsF9ziD7rPUFu3ncm7y2-hQGHdq4YGu3ICV2fZRwlDD0hoWUL_EFF6vQXHvRn78jiQnofid4CCf-3DcpxnlpHKFgzjui-5NM6brO9Djj8WmV9uVjgGdXcq_4zL9lXQNtazYTPbAvsN9rz2NwpJqYxHNTVWJu9IRsFtmBE9ETHY5mSRTs5FB5jDsu6RCfCytvV6INkrenjRuEYTfXBOX_rahA427W1Xbf5cFZZqZhJkRyFU6NeAFgIUFDnzKwYRgxlVn6RLZTVE5jJj-ebAqIIvaQUOVwSGIjMCw8CM72wK-_AUYWwX7AnbhukgIDBkrY7cf_J-JKyyv33MmoIdyS_Uvy5eK1rOGS5-inZoY78aj1gDIBpDCQJRoFz15WxDqhu8yYBKukb1DHu23gcamQvH-C23EXWi9advsUViKIJKCBY9Q_AtvD6BBK3eLx_Dp7HVfqfDEuQ58xu6d2U1MtEVTWfC9PtH/download [following]\n",
      "--2015-10-05 18:10:46--  https://dl.boxcloud.com/d/1/sRUDTUN2j2xKlBIlv08Zje2PwfKyqsmzmXFCdVqtjy8c36Jcb-POfCNnNtUdn2L7vtZYKovTC8dAiKWMTnr2PmjBHneRIVISxUcu3ltt9xVrVy8w2YqTAwZ92RINVWmaRi8oFxuh2RuVeYHT_ifPia17jdeId-jd-Wvi3rdQiwIz1bVH2rhH2vA0T4v2rVr8nXGWISYyiofKwQefbla-m71bn6uY7wxfe_xRaRLzHobUJBxqmYBG7c1YREktgoELsZFjXvfKQSMuTIeJgeKvPX2FcaGl7B3cM0j-ATPqOCGuXx3hbvB3LnLV6oHJooyRzFLT1aQFEqOVE6_H5BjGJ_ovr3xvHSzajmLNpsM0ym6evLkIdnqbS9hEA6d7mautLG8Am86BZrHwbyY-NuqqFSkSo7PGsUY19DTJha_aO8RlxEbucKSY3DIfvGo9QrkIfVvPlPPk6Gd8gIAJMLCXGg3cSC_uUu5q1IjacX5E8m9a0zmyWKZSmlJjKXwdrQW3qGN9cbsXVCfAmiwiu_cUqozx9daJcwU2vqM93BN30NAoIEboR13_U8gMZukWqpcO_F_EzKZRRyWU5vWIHW-lKdv9ewxI0S8vCzwr4_og5SmFoI-Hk8yFndi-iMQqwigzedCZRmia1nY26rKNir-pWMFauQdfyK1gyp2z2HSMz-BH-5f0Z4irJFxg8aiPl7YGbye8dUTwlzM876RWuQYwQMkz5qAnN5NdpFB31TOF0Fe8NFuiw0LWotCjr7-4VK0QgdrzZ3V2HxQFqrNsF9ziD7rPUFu3ncm7y2-hQGHdq4YGu3ICV2fZRwlDD0hoWUL_EFF6vQXHvRn78jiQnofid4CCf-3DcpxnlpHKFgzjui-5NM6brO9Djj8WmV9uVjgGdXcq_4zL9lXQNtazYTPbAvsN9rz2NwpJqYxHNTVWJu9IRsFtmBE9ETHY5mSRTs5FB5jDsu6RCfCytvV6INkrenjRuEYTfXBOX_rahA427W1Xbf5cFZZqZhJkRyFU6NeAFgIUFDnzKwYRgxlVn6RLZTVE5jJj-ebAqIIvaQUOVwSGIjMCw8CM72wK-_AUYWwX7AnbhukgIDBkrY7cf_J-JKyyv33MmoIdyS_Uvy5eK1rOGS5-inZoY78aj1gDIBpDCQJRoFz15WxDqhu8yYBKukb1DHu23gcamQvH-C23EXWi9advsUViKIJKCBY9Q_AtvD6BBK3eLx_Dp7HVfqfDEuQ58xu6d2U1MtEVTWfC9PtH/download\n",
      "Resolving dl.boxcloud.com... 74.112.184.96, 74.112.185.96\n",
      "Connecting to dl.boxcloud.com|74.112.184.96|:443... connected.\n",
      "HTTP request sent, awaiting response... 200 OK\n",
      "Length: 72629 (71K) [text/csv]\n",
      "Saving to: ‘/resources/FuelConsumption.csv’\n",
      "\n",
      "100%[======================================>] 72,629       352KB/s   in 0.2s   \n",
      "\n",
      "2015-10-05 18:10:47 (352 KB/s) - ‘/resources/FuelConsumption.csv’ saved [72629/72629]\n",
      "\n"
     ]
    }
   ],
   "source": [
    "!wget -O /resources/FuelConsumption.csv https://ibm.box.com/shared/static/ez95yurarnp0q31l9jl1ma51mh6qtxj2.csv"
   ]
  },
  {
   "cell_type": "code",
   "execution_count": 64,
   "metadata": {
    "collapsed": false
   },
   "outputs": [
    {
     "data": {
      "text/html": [
       "<div>\n",
       "<table border=\"1\" class=\"dataframe\">\n",
       "  <thead>\n",
       "    <tr style=\"text-align: right;\">\n",
       "      <th></th>\n",
       "      <th>MODELYEAR</th>\n",
       "      <th>MAKE</th>\n",
       "      <th>MODEL</th>\n",
       "      <th>VEHICLECLASS</th>\n",
       "      <th>ENGINESIZE</th>\n",
       "      <th>CYLINDERS</th>\n",
       "      <th>TRANSMISSION</th>\n",
       "      <th>FUELTYPE</th>\n",
       "      <th>FUELCONSUMPTION_CITY</th>\n",
       "      <th>FUELCONSUMPTION_HWY</th>\n",
       "      <th>FUELCONSUMPTION_COMB</th>\n",
       "      <th>FUELCONSUMPTION_COMB_MPG</th>\n",
       "      <th>CO2EMISSIONS</th>\n",
       "    </tr>\n",
       "  </thead>\n",
       "  <tbody>\n",
       "    <tr>\n",
       "      <th>0</th>\n",
       "      <td>2014</td>\n",
       "      <td>ACURA</td>\n",
       "      <td>ILX</td>\n",
       "      <td>COMPACT</td>\n",
       "      <td>2.0</td>\n",
       "      <td>4</td>\n",
       "      <td>AS5</td>\n",
       "      <td>Z</td>\n",
       "      <td>9.9</td>\n",
       "      <td>6.7</td>\n",
       "      <td>8.5</td>\n",
       "      <td>33</td>\n",
       "      <td>196</td>\n",
       "    </tr>\n",
       "    <tr>\n",
       "      <th>1</th>\n",
       "      <td>2014</td>\n",
       "      <td>ACURA</td>\n",
       "      <td>ILX</td>\n",
       "      <td>COMPACT</td>\n",
       "      <td>2.4</td>\n",
       "      <td>4</td>\n",
       "      <td>M6</td>\n",
       "      <td>Z</td>\n",
       "      <td>11.2</td>\n",
       "      <td>7.7</td>\n",
       "      <td>9.6</td>\n",
       "      <td>29</td>\n",
       "      <td>221</td>\n",
       "    </tr>\n",
       "    <tr>\n",
       "      <th>2</th>\n",
       "      <td>2014</td>\n",
       "      <td>ACURA</td>\n",
       "      <td>ILX HYBRID</td>\n",
       "      <td>COMPACT</td>\n",
       "      <td>1.5</td>\n",
       "      <td>4</td>\n",
       "      <td>AV7</td>\n",
       "      <td>Z</td>\n",
       "      <td>6.0</td>\n",
       "      <td>5.8</td>\n",
       "      <td>5.9</td>\n",
       "      <td>48</td>\n",
       "      <td>136</td>\n",
       "    </tr>\n",
       "    <tr>\n",
       "      <th>3</th>\n",
       "      <td>2014</td>\n",
       "      <td>ACURA</td>\n",
       "      <td>MDX 4WD</td>\n",
       "      <td>SUV - SMALL</td>\n",
       "      <td>3.5</td>\n",
       "      <td>6</td>\n",
       "      <td>AS6</td>\n",
       "      <td>Z</td>\n",
       "      <td>12.7</td>\n",
       "      <td>9.1</td>\n",
       "      <td>11.1</td>\n",
       "      <td>25</td>\n",
       "      <td>255</td>\n",
       "    </tr>\n",
       "    <tr>\n",
       "      <th>4</th>\n",
       "      <td>2014</td>\n",
       "      <td>ACURA</td>\n",
       "      <td>RDX AWD</td>\n",
       "      <td>SUV - SMALL</td>\n",
       "      <td>3.5</td>\n",
       "      <td>6</td>\n",
       "      <td>AS6</td>\n",
       "      <td>Z</td>\n",
       "      <td>12.1</td>\n",
       "      <td>8.7</td>\n",
       "      <td>10.6</td>\n",
       "      <td>27</td>\n",
       "      <td>244</td>\n",
       "    </tr>\n",
       "  </tbody>\n",
       "</table>\n",
       "</div>"
      ],
      "text/plain": [
       "   MODELYEAR   MAKE       MODEL VEHICLECLASS  ENGINESIZE  CYLINDERS  \\\n",
       "0       2014  ACURA         ILX      COMPACT         2.0          4   \n",
       "1       2014  ACURA         ILX      COMPACT         2.4          4   \n",
       "2       2014  ACURA  ILX HYBRID      COMPACT         1.5          4   \n",
       "3       2014  ACURA     MDX 4WD  SUV - SMALL         3.5          6   \n",
       "4       2014  ACURA     RDX AWD  SUV - SMALL         3.5          6   \n",
       "\n",
       "  TRANSMISSION FUELTYPE  FUELCONSUMPTION_CITY  FUELCONSUMPTION_HWY  \\\n",
       "0          AS5        Z                   9.9                  6.7   \n",
       "1           M6        Z                  11.2                  7.7   \n",
       "2          AV7        Z                   6.0                  5.8   \n",
       "3          AS6        Z                  12.7                  9.1   \n",
       "4          AS6        Z                  12.1                  8.7   \n",
       "\n",
       "   FUELCONSUMPTION_COMB  FUELCONSUMPTION_COMB_MPG  CO2EMISSIONS  \n",
       "0                   8.5                        33           196  \n",
       "1                   9.6                        29           221  \n",
       "2                   5.9                        48           136  \n",
       "3                  11.1                        25           255  \n",
       "4                  10.6                        27           244  "
      ]
     },
     "execution_count": 64,
     "metadata": {},
     "output_type": "execute_result"
    }
   ],
   "source": [
    "df = pd.read_csv(\"/resources/FuelConsumption.csv\")\n",
    "\n",
    "# take a look at the dataset\n",
    "df.head()"
   ]
  },
  {
   "cell_type": "code",
   "execution_count": 65,
   "metadata": {
    "collapsed": false
   },
   "outputs": [
    {
     "data": {
      "text/html": [
       "<div>\n",
       "<table border=\"1\" class=\"dataframe\">\n",
       "  <thead>\n",
       "    <tr style=\"text-align: right;\">\n",
       "      <th></th>\n",
       "      <th>MODELYEAR</th>\n",
       "      <th>ENGINESIZE</th>\n",
       "      <th>CYLINDERS</th>\n",
       "      <th>FUELCONSUMPTION_CITY</th>\n",
       "      <th>FUELCONSUMPTION_HWY</th>\n",
       "      <th>FUELCONSUMPTION_COMB</th>\n",
       "      <th>FUELCONSUMPTION_COMB_MPG</th>\n",
       "      <th>CO2EMISSIONS</th>\n",
       "    </tr>\n",
       "  </thead>\n",
       "  <tbody>\n",
       "    <tr>\n",
       "      <th>count</th>\n",
       "      <td>1067</td>\n",
       "      <td>1067.000000</td>\n",
       "      <td>1067.000000</td>\n",
       "      <td>1067.000000</td>\n",
       "      <td>1067.000000</td>\n",
       "      <td>1067.000000</td>\n",
       "      <td>1067.000000</td>\n",
       "      <td>1067.000000</td>\n",
       "    </tr>\n",
       "    <tr>\n",
       "      <th>mean</th>\n",
       "      <td>2014</td>\n",
       "      <td>3.346298</td>\n",
       "      <td>5.794752</td>\n",
       "      <td>13.296532</td>\n",
       "      <td>9.474602</td>\n",
       "      <td>11.580881</td>\n",
       "      <td>26.441425</td>\n",
       "      <td>256.228679</td>\n",
       "    </tr>\n",
       "    <tr>\n",
       "      <th>std</th>\n",
       "      <td>0</td>\n",
       "      <td>1.415895</td>\n",
       "      <td>1.797447</td>\n",
       "      <td>4.101253</td>\n",
       "      <td>2.794510</td>\n",
       "      <td>3.485595</td>\n",
       "      <td>7.468702</td>\n",
       "      <td>63.372304</td>\n",
       "    </tr>\n",
       "    <tr>\n",
       "      <th>min</th>\n",
       "      <td>2014</td>\n",
       "      <td>1.000000</td>\n",
       "      <td>3.000000</td>\n",
       "      <td>4.600000</td>\n",
       "      <td>4.900000</td>\n",
       "      <td>4.700000</td>\n",
       "      <td>11.000000</td>\n",
       "      <td>108.000000</td>\n",
       "    </tr>\n",
       "    <tr>\n",
       "      <th>25%</th>\n",
       "      <td>2014</td>\n",
       "      <td>2.000000</td>\n",
       "      <td>4.000000</td>\n",
       "      <td>10.250000</td>\n",
       "      <td>7.500000</td>\n",
       "      <td>9.000000</td>\n",
       "      <td>21.000000</td>\n",
       "      <td>207.000000</td>\n",
       "    </tr>\n",
       "    <tr>\n",
       "      <th>50%</th>\n",
       "      <td>2014</td>\n",
       "      <td>3.400000</td>\n",
       "      <td>6.000000</td>\n",
       "      <td>12.600000</td>\n",
       "      <td>8.800000</td>\n",
       "      <td>10.900000</td>\n",
       "      <td>26.000000</td>\n",
       "      <td>251.000000</td>\n",
       "    </tr>\n",
       "    <tr>\n",
       "      <th>75%</th>\n",
       "      <td>2014</td>\n",
       "      <td>4.300000</td>\n",
       "      <td>8.000000</td>\n",
       "      <td>15.550000</td>\n",
       "      <td>10.850000</td>\n",
       "      <td>13.350000</td>\n",
       "      <td>31.000000</td>\n",
       "      <td>294.000000</td>\n",
       "    </tr>\n",
       "    <tr>\n",
       "      <th>max</th>\n",
       "      <td>2014</td>\n",
       "      <td>8.400000</td>\n",
       "      <td>12.000000</td>\n",
       "      <td>30.200000</td>\n",
       "      <td>20.500000</td>\n",
       "      <td>25.800000</td>\n",
       "      <td>60.000000</td>\n",
       "      <td>488.000000</td>\n",
       "    </tr>\n",
       "  </tbody>\n",
       "</table>\n",
       "</div>"
      ],
      "text/plain": [
       "       MODELYEAR   ENGINESIZE    CYLINDERS  FUELCONSUMPTION_CITY  \\\n",
       "count       1067  1067.000000  1067.000000           1067.000000   \n",
       "mean        2014     3.346298     5.794752             13.296532   \n",
       "std            0     1.415895     1.797447              4.101253   \n",
       "min         2014     1.000000     3.000000              4.600000   \n",
       "25%         2014     2.000000     4.000000             10.250000   \n",
       "50%         2014     3.400000     6.000000             12.600000   \n",
       "75%         2014     4.300000     8.000000             15.550000   \n",
       "max         2014     8.400000    12.000000             30.200000   \n",
       "\n",
       "       FUELCONSUMPTION_HWY  FUELCONSUMPTION_COMB  FUELCONSUMPTION_COMB_MPG  \\\n",
       "count          1067.000000           1067.000000               1067.000000   \n",
       "mean              9.474602             11.580881                 26.441425   \n",
       "std               2.794510              3.485595                  7.468702   \n",
       "min               4.900000              4.700000                 11.000000   \n",
       "25%               7.500000              9.000000                 21.000000   \n",
       "50%               8.800000             10.900000                 26.000000   \n",
       "75%              10.850000             13.350000                 31.000000   \n",
       "max              20.500000             25.800000                 60.000000   \n",
       "\n",
       "       CO2EMISSIONS  \n",
       "count   1067.000000  \n",
       "mean     256.228679  \n",
       "std       63.372304  \n",
       "min      108.000000  \n",
       "25%      207.000000  \n",
       "50%      251.000000  \n",
       "75%      294.000000  \n",
       "max      488.000000  "
      ]
     },
     "execution_count": 65,
     "metadata": {},
     "output_type": "execute_result"
    }
   ],
   "source": [
    "# summarize the data\n",
    "df.describe()"
   ]
  },
  {
   "cell_type": "code",
   "execution_count": 66,
   "metadata": {
    "collapsed": false
   },
   "outputs": [
    {
     "data": {
      "image/png": "[encoded data removed]",
      "text/plain": [
       "<matplotlib.figure.Figure at 0x10ab4e710>"
      ]
     },
     "metadata": {},
     "output_type": "display_data"
    }
   ],
   "source": [
    "viz=df[['CYLINDERS','ENGINESIZE','CO2EMISSIONS','FUELCONSUMPTION_CITY']]\n",
    "viz.hist()\n",
    "plt.show()"
   ]
  },
  {
   "cell_type": "code",
   "execution_count": 67,
   "metadata": {
    "collapsed": false
   },
   "outputs": [
    {
     "data": {
      "image/png": "[encoded data removed]",
      "text/plain": [
       "<matplotlib.figure.Figure at 0x10b50f610>"
      ]
     },
     "metadata": {},
     "output_type": "display_data"
    }
   ],
   "source": [
    "plt.scatter(df.ENGINESIZE, df.CO2EMISSIONS)\n",
    "plt.xlabel(\"Engine size\")\n",
    "plt.ylabel(\"Emission Volume\")\n",
    "plt.show()"
   ]
  },
  {
   "cell_type": "code",
   "execution_count": 68,
   "metadata": {
    "collapsed": false
   },
   "outputs": [],
   "source": [
    "msk = np.random.rand(len(df)) < 0.8\n",
    "trainDf=df[msk]\n",
    "testDf=df[~msk]"
   ]
  },
  {
   "cell_type": "markdown",
   "metadata": {},
   "source": [
    "polyfit --> Least squares polynomial fit  \n",
    "Degree of the fitting polynomial=1"
   ]
  },
  {
   "cell_type": "code",
   "execution_count": 69,
   "metadata": {
    "collapsed": false
   },
   "outputs": [
    {
     "name": "stdout",
     "output_type": "stream",
     "text": [
      "slope: 39.241417995\n",
      "intercept: 124.754713175\n",
      "residuals (sum of the squares of the fit errors): [ 814595.60926075]\n",
      "singular values: [ 1.38514522  0.28525902]\n",
      "conditioning threshold: 1.9251267247e-13\n",
      " \n",
      "39.24 x + 124.8\n"
     ]
    },
    {
     "name": "stderr",
     "output_type": "stream",
     "text": [
      "/Library/Python/2.7/site-packages/ipykernel/__main__.py:9: SettingWithCopyWarning: \n",
      "A value is trying to be set on a copy of a slice from a DataFrame.\n",
      "Try using .loc[row_indexer,col_indexer] = value instead\n",
      "\n",
      "See the the caveats in the documentation: http://pandas.pydata.org/pandas-docs/stable/indexing.html#indexing-view-versus-copy\n"
     ]
    },
    {
     "data": {
      "image/png": "[encoded data removed]",
      "text/plain": [
       "<matplotlib.figure.Figure at 0x10bb83550>"
      ]
     },
     "metadata": {},
     "output_type": "display_data"
    }
   ],
   "source": [
    "fit = np.polyfit(trainDf.ENGINESIZE, trainDf.CO2EMISSIONS, deg=1,full=True)\n",
    "print 'slope:',fit[0][0]\n",
    "print 'intercept:',fit[0][1]\n",
    "print 'residuals (sum of the squares of the fit errors):',fit[1] \n",
    "print 'singular values:', fit [3]\n",
    "print 'conditioning threshold:',fit[4]\n",
    "\n",
    "fit_fn = np.poly1d(fit[0]) # param: The polynomial’s coefficients\n",
    "trainDf['predicted']=fit_fn(trainDf.ENGINESIZE)\n",
    "print fit_fn \n",
    "plt.plot(trainDf.ENGINESIZE, trainDf.CO2EMISSIONS, 'bo', trainDf.ENGINESIZE, trainDf.predicted, '--k')\n",
    "plt.xlabel(\"Engine size\")\n",
    "plt.ylabel(\"Emission Volume\")\n",
    "plt.show()\n",
    "\n",
    "\n"
   ]
  },
  {
   "cell_type": "markdown",
   "metadata": {},
   "source": [
    "### Traing dataset error\n",
    "SST is the total sum of squares  \n",
    "SSR is the regression sum of squares   \n",
    "SSE is the sum of squared errors  \n",
    "In some texts, the abbreviations SSR and SSE have the opposite meaning: SSR stands for the residual sum of squares (which then refers to the sum of squared errors in the upper example) and SSE stands for the explained sum of squares (another name for the regression sum of squares)."
   ]
  },
  {
   "cell_type": "code",
   "execution_count": 86,
   "metadata": {
    "collapsed": false
   },
   "outputs": [
    {
     "name": "stdout",
     "output_type": "stream",
     "text": [
      "3566656.609\n",
      "2752060.99974\n",
      "0.77160806364\n"
     ]
    }
   ],
   "source": [
    "SST=np.sum((trainDf.CO2EMISSIONS-np.average(trainDf.CO2EMISSIONS))**2)\n",
    "print SST\n",
    "SSR=np.sum((trainDf.predicted-np.average(trainDf.CO2EMISSIONS))**2)\n",
    "print SSR\n",
    "R2=SSR/SST\n",
    "print R2"
   ]
  },
  {
   "cell_type": "markdown",
   "metadata": {},
   "source": [
    "### Test dataset evaluation"
   ]
  },
  {
   "cell_type": "code",
   "execution_count": 87,
   "metadata": {
    "collapsed": false
   },
   "outputs": [
    {
     "name": "stderr",
     "output_type": "stream",
     "text": [
      "/Library/Python/2.7/site-packages/ipykernel/__main__.py:1: SettingWithCopyWarning: \n",
      "A value is trying to be set on a copy of a slice from a DataFrame.\n",
      "Try using .loc[row_indexer,col_indexer] = value instead\n",
      "\n",
      "See the the caveats in the documentation: http://pandas.pydata.org/pandas-docs/stable/indexing.html#indexing-view-versus-copy\n",
      "  if __name__ == '__main__':\n"
     ]
    },
    {
     "data": {
      "image/png": "[encoded data removed]",
      "text/plain": [
       "<matplotlib.figure.Figure at 0x10b450310>"
      ]
     },
     "metadata": {},
     "output_type": "display_data"
    }
   ],
   "source": [
    "testDf['predicted']= fit_fn(testDf.ENGINESIZE)\n",
    "plt.plot(testDf.predicted, testDf.CO2EMISSIONS, 'bo', testDf.CO2EMISSIONS, testDf.CO2EMISSIONS, '--k')\n",
    "plt.xlabel(\"Predicted Emissions\")\n",
    "plt.ylabel(\"Emission Volume\")\n",
    "plt.show()"
   ]
  },
  {
   "cell_type": "markdown",
   "metadata": {},
   "source": [
    "### Test data set error"
   ]
  },
  {
   "cell_type": "code",
   "execution_count": 98,
   "metadata": {
    "collapsed": false
   },
   "outputs": [
    {
     "name": "stdout",
     "output_type": "stream",
     "text": [
      "0.754810756503\n"
     ]
    }
   ],
   "source": [
    "SST=np.sum((testDf.CO2EMISSIONS-np.average(testDf.CO2EMISSIONS))**2)\n",
    "SSR=np.sum((testDf.predicted-np.average(testDf.CO2EMISSIONS))**2)\n",
    "R2=SSR/SST\n",
    "print R2"
   ]
  },
  {
   "cell_type": "markdown",
   "metadata": {},
   "source": [
    "### Cross fold validation\n"
   ]
  },
  {
   "cell_type": "code",
   "execution_count": 97,
   "metadata": {
    "collapsed": false
   },
   "outputs": [
    {
     "name": "stdout",
     "output_type": "stream",
     "text": [
      "0.788380049099\n"
     ]
    }
   ],
   "source": [
    "from sklearn import cross_validation\n",
    "cv = cross_validation.KFold(len(df), 10)\n",
    "R2=[]\n",
    "for train,test in cv:\n",
    "    #print test\n",
    "    tr=df.ix[train]\n",
    "    fit = np.polyfit(tr.ENGINESIZE, tr.CO2EMISSIONS, deg=1,full=True) \n",
    "    #print 'residuals (sum of the squares of the fit errors):',fit[1] \n",
    "    ts=df.ix[test]\n",
    "    fit_fn = np.poly1d(fit[0])\n",
    "    ts['predicted']= fit_fn(ts.ENGINESIZE)\n",
    "    SST=np.sum((ts.CO2EMISSIONS-np.average(ts.CO2EMISSIONS))**2)\n",
    "    SSR=np.sum((ts.predicted-np.average(ts.CO2EMISSIONS))**2)\n",
    "    R2.append(SSR/SST)\n",
    "print np.average(R2)\n",
    "    "
   ]
  },
  {
   "cell_type": "code",
   "execution_count": null,
   "metadata": {
    "collapsed": true
   },
   "outputs": [],
   "source": []
  }
 ],
 "metadata": {
  "kernelspec": {
   "display_name": "Python 2",
   "language": "python",
   "name": "python2"
  },
  "language_info": {
   "codemirror_mode": {
    "name": "ipython",
    "version": 2
   },
   "file_extension": ".py",
   "mimetype": "text/x-python",
   "name": "python",
   "nbconvert_exporter": "python",
   "pygments_lexer": "ipython2",
   "version": "2.7.10"
  }
 },
 "nbformat": 4,
 "nbformat_minor": 0
}
